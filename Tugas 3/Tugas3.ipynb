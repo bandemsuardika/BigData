{
 "cells": [
  {
   "cell_type": "code",
   "execution_count": 1,
   "metadata": {
    "collapsed": false
   },
   "outputs": [
    {
     "name": "stdout",
     "output_type": "stream",
     "text": [
      "<pyspark.context.SparkContext object at 0x000000000440CCC0>\n"
     ]
    }
   ],
   "source": [
    "# Konfigurasi Spark\n",
    "import os\n",
    "import sys\n",
    "\n",
    "# 1. Lokasi di mana Spark diinstal\n",
    "spark_path = \"D:/spark\"\n",
    "\n",
    "# 2. Menentukan environment variable\n",
    "os.environ['SPARK_HOME'] = spark_path\n",
    "\n",
    "\n",
    "# 3. Download winutils dari https://github.com/steveloughran/winutils/blob/master/hadoop-2.6.0/bin/winutils.exe?raw=true\n",
    "#   dan letakkan di dalam folder D:\\spark\\bin\\\n",
    "#   Lokasi winutils.exe\n",
    "os.environ['HADOOP_HOME'] = spark_path\n",
    "\n",
    "# 4. Lokasi Python yang dijalankan --> punya Anaconda\n",
    "#    Apabila Python yang diinstall hanya Anaconda, maka tidak perlu menjalankan baris ini.\n",
    "os.environ['PYSPARK_PYTHON'] = sys.executable\n",
    "\n",
    "# 5. Konfigurasi path library PySpark\n",
    "sys.path.append(spark_path + \"/bin\")\n",
    "sys.path.append(spark_path + \"/python\")\n",
    "sys.path.append(spark_path + \"/python/pyspark/\")\n",
    "sys.path.append(spark_path + \"/python/lib\")\n",
    "sys.path.append(spark_path + \"/python/lib/pyspark.zip\")\n",
    "sys.path.append(spark_path + \"/python/lib/py4j-0.10.4-src.zip\")\n",
    "\n",
    "from pyspark import SparkContext\n",
    "from pyspark import SparkConf\n",
    "\n",
    "sc = SparkContext(\"local\", \"test\")\n",
    "\n",
    "print sc"
   ]
  },
  {
   "cell_type": "code",
   "execution_count": 2,
   "metadata": {
    "collapsed": false
   },
   "outputs": [
    {
     "name": "stdout",
     "output_type": "stream",
     "text": [
      "FreqItemset(items=[u'perkedel'], freq=5)\n",
      "FreqItemset(items=[u'perkedel', u'jeruk'], freq=3)\n",
      "FreqItemset(items=[u'perkedel', u'jeruk', u'es'], freq=3)\n",
      "FreqItemset(items=[u'perkedel', u'nasi'], freq=4)\n",
      "FreqItemset(items=[u'perkedel', u'nasi', u'es'], freq=4)\n",
      "FreqItemset(items=[u'perkedel', u'es'], freq=5)\n",
      "FreqItemset(items=[u'es'], freq=23)\n",
      "FreqItemset(items=[u'sayur'], freq=4)\n",
      "FreqItemset(items=[u'sayur', u'es'], freq=4)\n",
      "FreqItemset(items=[u'nasi'], freq=14)\n",
      "FreqItemset(items=[u'nasi', u'es'], freq=14)\n",
      "FreqItemset(items=[u'telor'], freq=12)\n",
      "FreqItemset(items=[u'telor', u'nasi'], freq=7)\n",
      "FreqItemset(items=[u'telor', u'nasi', u'es'], freq=7)\n",
      "FreqItemset(items=[u'telor', u'es'], freq=12)\n",
      "FreqItemset(items=[u'teh'], freq=12)\n",
      "FreqItemset(items=[u'teh', u'telor'], freq=9)\n",
      "FreqItemset(items=[u'teh', u'telor', u'nasi'], freq=5)\n",
      "FreqItemset(items=[u'teh', u'telor', u'nasi', u'es'], freq=5)\n",
      "FreqItemset(items=[u'teh', u'telor', u'es'], freq=9)\n",
      "FreqItemset(items=[u'teh', u'nasi'], freq=8)\n",
      "FreqItemset(items=[u'teh', u'nasi', u'es'], freq=8)\n",
      "FreqItemset(items=[u'teh', u'es'], freq=12)\n",
      "FreqItemset(items=[u'jeruk'], freq=11)\n",
      "FreqItemset(items=[u'jeruk', u'telor'], freq=3)\n",
      "FreqItemset(items=[u'jeruk', u'telor', u'es'], freq=3)\n",
      "FreqItemset(items=[u'jeruk', u'nasi'], freq=6)\n",
      "FreqItemset(items=[u'jeruk', u'nasi', u'es'], freq=6)\n",
      "FreqItemset(items=[u'jeruk', u'es'], freq=11)\n",
      "FreqItemset(items=[u'mie'], freq=10)\n",
      "FreqItemset(items=[u'mie', u'telor'], freq=5)\n",
      "FreqItemset(items=[u'mie', u'telor', u'es'], freq=5)\n",
      "FreqItemset(items=[u'mie', u'jeruk'], freq=5)\n",
      "FreqItemset(items=[u'mie', u'jeruk', u'es'], freq=5)\n",
      "FreqItemset(items=[u'mie', u'teh'], freq=5)\n",
      "FreqItemset(items=[u'mie', u'teh', u'telor'], freq=4)\n",
      "FreqItemset(items=[u'mie', u'teh', u'telor', u'es'], freq=4)\n",
      "FreqItemset(items=[u'mie', u'teh', u'es'], freq=5)\n",
      "FreqItemset(items=[u'mie', u'es'], freq=10)\n",
      "FreqItemset(items=[u'ayam'], freq=9)\n",
      "FreqItemset(items=[u'ayam', u'telor'], freq=3)\n",
      "FreqItemset(items=[u'ayam', u'telor', u'es'], freq=3)\n",
      "FreqItemset(items=[u'ayam', u'mie'], freq=5)\n",
      "FreqItemset(items=[u'ayam', u'mie', u'jeruk'], freq=3)\n",
      "FreqItemset(items=[u'ayam', u'mie', u'jeruk', u'es'], freq=3)\n",
      "FreqItemset(items=[u'ayam', u'mie', u'es'], freq=5)\n",
      "FreqItemset(items=[u'ayam', u'jeruk'], freq=5)\n",
      "FreqItemset(items=[u'ayam', u'jeruk', u'es'], freq=5)\n",
      "FreqItemset(items=[u'ayam', u'nasi'], freq=5)\n",
      "FreqItemset(items=[u'ayam', u'nasi', u'es'], freq=5)\n",
      "FreqItemset(items=[u'ayam', u'teh'], freq=4)\n",
      "FreqItemset(items=[u'ayam', u'teh', u'telor'], freq=3)\n",
      "FreqItemset(items=[u'ayam', u'teh', u'telor', u'es'], freq=3)\n",
      "FreqItemset(items=[u'ayam', u'teh', u'nasi'], freq=3)\n",
      "FreqItemset(items=[u'ayam', u'teh', u'nasi', u'es'], freq=3)\n",
      "FreqItemset(items=[u'ayam', u'teh', u'es'], freq=4)\n",
      "FreqItemset(items=[u'ayam', u'es'], freq=9)\n",
      "FreqItemset(items=[u'ikan'], freq=7)\n",
      "FreqItemset(items=[u'ikan', u'mie'], freq=3)\n",
      "FreqItemset(items=[u'ikan', u'mie', u'es'], freq=3)\n",
      "FreqItemset(items=[u'ikan', u'jeruk'], freq=5)\n",
      "FreqItemset(items=[u'ikan', u'jeruk', u'nasi'], freq=3)\n",
      "FreqItemset(items=[u'ikan', u'jeruk', u'nasi', u'es'], freq=3)\n",
      "FreqItemset(items=[u'ikan', u'jeruk', u'es'], freq=5)\n",
      "FreqItemset(items=[u'ikan', u'nasi'], freq=4)\n",
      "FreqItemset(items=[u'ikan', u'nasi', u'es'], freq=4)\n",
      "FreqItemset(items=[u'ikan', u'es'], freq=7)\n",
      "FreqItemset(items=[u'tahu'], freq=6)\n",
      "FreqItemset(items=[u'tahu', u'telor'], freq=3)\n",
      "FreqItemset(items=[u'tahu', u'telor', u'nasi'], freq=3)\n",
      "FreqItemset(items=[u'tahu', u'telor', u'nasi', u'es'], freq=3)\n",
      "FreqItemset(items=[u'tahu', u'telor', u'es'], freq=3)\n",
      "FreqItemset(items=[u'tahu', u'nasi'], freq=6)\n",
      "FreqItemset(items=[u'tahu', u'nasi', u'es'], freq=6)\n",
      "FreqItemset(items=[u'tahu', u'teh'], freq=5)\n",
      "FreqItemset(items=[u'tahu', u'teh', u'telor'], freq=3)\n",
      "FreqItemset(items=[u'tahu', u'teh', u'telor', u'nasi'], freq=3)\n",
      "FreqItemset(items=[u'tahu', u'teh', u'telor', u'nasi', u'es'], freq=3)\n",
      "FreqItemset(items=[u'tahu', u'teh', u'telor', u'es'], freq=3)\n",
      "FreqItemset(items=[u'tahu', u'teh', u'nasi'], freq=5)\n",
      "FreqItemset(items=[u'tahu', u'teh', u'nasi', u'es'], freq=5)\n",
      "FreqItemset(items=[u'tahu', u'teh', u'es'], freq=5)\n",
      "FreqItemset(items=[u'tahu', u'es'], freq=6)\n",
      "FreqItemset(items=[u'tempe'], freq=6)\n",
      "FreqItemset(items=[u'tempe', u'tahu'], freq=3)\n",
      "FreqItemset(items=[u'tempe', u'tahu', u'nasi'], freq=3)\n",
      "FreqItemset(items=[u'tempe', u'tahu', u'nasi', u'es'], freq=3)\n",
      "FreqItemset(items=[u'tempe', u'tahu', u'es'], freq=3)\n",
      "FreqItemset(items=[u'tempe', u'jeruk'], freq=3)\n",
      "FreqItemset(items=[u'tempe', u'jeruk', u'es'], freq=3)\n",
      "FreqItemset(items=[u'tempe', u'nasi'], freq=5)\n",
      "FreqItemset(items=[u'tempe', u'nasi', u'es'], freq=5)\n",
      "FreqItemset(items=[u'tempe', u'teh'], freq=3)\n",
      "FreqItemset(items=[u'tempe', u'teh', u'nasi'], freq=3)\n",
      "FreqItemset(items=[u'tempe', u'teh', u'nasi', u'es'], freq=3)\n",
      "FreqItemset(items=[u'tempe', u'teh', u'es'], freq=3)\n",
      "FreqItemset(items=[u'tempe', u'es'], freq=6)\n"
     ]
    }
   ],
   "source": [
    "from pyspark.mllib.fpm import FPGrowth\n",
    "\n",
    "data = sc.textFile(\"D:/spark/Dataset.txt\")\n",
    "transactions = data.map(lambda line: line.strip().split(' '))\n",
    "model = FPGrowth.train(transactions, minSupport=0.1, numPartitions=10)\n",
    "result = model.freqItemsets().collect()\n",
    "for fi in result:\n",
    "    print(fi)"
   ]
  },
  {
   "cell_type": "code",
   "execution_count": null,
   "metadata": {
    "collapsed": true
   },
   "outputs": [],
   "source": []
  }
 ],
 "metadata": {
  "kernelspec": {
   "display_name": "Python 2",
   "language": "python",
   "name": "python2"
  },
  "language_info": {
   "codemirror_mode": {
    "name": "ipython",
    "version": 2
   },
   "file_extension": ".py",
   "mimetype": "text/x-python",
   "name": "python",
   "nbconvert_exporter": "python",
   "pygments_lexer": "ipython2",
   "version": "2.7.13"
  }
 },
 "nbformat": 4,
 "nbformat_minor": 2
}
